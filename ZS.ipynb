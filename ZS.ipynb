{
  "nbformat": 4,
  "nbformat_minor": 0,
  "metadata": {
    "colab": {
      "name": "ZS.ipynb",
      "provenance": []
    },
    "kernelspec": {
      "name": "python3",
      "display_name": "Python 3"
    }
  },
  "cells": [
    {
      "cell_type": "code",
      "metadata": {
        "id": "karPnahaNIpq"
      },
      "source": [
        "import pandas as pd\n",
        "import numpy as np"
      ],
      "execution_count": null,
      "outputs": []
    },
    {
      "cell_type": "code",
      "metadata": {
        "id": "xtBE8AwyNemV"
      },
      "source": [
        "data = pd.read_csv('/content/drive/My Drive/ZS/dataset/train_file.csv')"
      ],
      "execution_count": null,
      "outputs": []
    },
    {
      "cell_type": "code",
      "metadata": {
        "id": "NA9X68dNOgFt"
      },
      "source": [
        "test = pd.read_csv('/content/drive/My Drive/ZS/dataset/test_file.csv')"
      ],
      "execution_count": null,
      "outputs": []
    },
    {
      "cell_type": "code",
      "metadata": {
        "id": "8o_i9cYyV_Dj"
      },
      "source": [
        "data.PublishDate=pd.to_datetime(data.PublishDate)"
      ],
      "execution_count": null,
      "outputs": []
    },
    {
      "cell_type": "code",
      "metadata": {
        "id": "WXz15KdxPFwc",
        "outputId": "65d71a79-5f04-444e-b74a-e72ed9b6f768",
        "colab": {
          "base_uri": "https://localhost:8080/",
          "height": 645
        }
      },
      "source": [
        "data.head().T"
      ],
      "execution_count": null,
      "outputs": [
        {
          "output_type": "execute_result",
          "data": {
            "text/html": [
              "<div>\n",
              "<style scoped>\n",
              "    .dataframe tbody tr th:only-of-type {\n",
              "        vertical-align: middle;\n",
              "    }\n",
              "\n",
              "    .dataframe tbody tr th {\n",
              "        vertical-align: top;\n",
              "    }\n",
              "\n",
              "    .dataframe thead th {\n",
              "        text-align: right;\n",
              "    }\n",
              "</style>\n",
              "<table border=\"1\" class=\"dataframe\">\n",
              "  <thead>\n",
              "    <tr style=\"text-align: right;\">\n",
              "      <th></th>\n",
              "      <th>0</th>\n",
              "      <th>1</th>\n",
              "      <th>2</th>\n",
              "      <th>3</th>\n",
              "      <th>4</th>\n",
              "    </tr>\n",
              "  </thead>\n",
              "  <tbody>\n",
              "    <tr>\n",
              "      <th>IDLink</th>\n",
              "      <td>Tr3CMgRv1N</td>\n",
              "      <td>Wc81vGp8qZ</td>\n",
              "      <td>zNGH03CrZH</td>\n",
              "      <td>3sM1H0W8ts</td>\n",
              "      <td>wUbnxgvqaZ</td>\n",
              "    </tr>\n",
              "    <tr>\n",
              "      <th>Title</th>\n",
              "      <td>Obama Lays Wreath at Arlington National Cemetery</td>\n",
              "      <td>A Look at the Health of the Chinese Economy</td>\n",
              "      <td>Nouriel Roubini: Global Economy Not Back to 2008</td>\n",
              "      <td>Finland GDP Expands In Q4</td>\n",
              "      <td>Tourism, govt spending buoys Thai economy in January</td>\n",
              "    </tr>\n",
              "    <tr>\n",
              "      <th>Headline</th>\n",
              "      <td>Obama Lays Wreath at Arlington National Cemetery. President Barack Obama has laid a wreath at the Tomb of the Unknowns to honor</td>\n",
              "      <td>Tim Haywood, investment director business-unit head for fixed income at Gam, discusses the China beige book and the state of the economy.</td>\n",
              "      <td>Nouriel Roubini, NYU professor and chairman at Roubini Global Economics, explains why the global economy isn't facing the same conditions</td>\n",
              "      <td>Finland's economy expanded marginally in the three months ended December, after contracting in the previous quarter, preliminary figures from Statistics Finland showed Monday.</td>\n",
              "      <td>Tourism and public spending continued to boost the economy in January, in light of contraction in private consumption and exports, according to the Bank of Thailand data.</td>\n",
              "    </tr>\n",
              "    <tr>\n",
              "      <th>Source</th>\n",
              "      <td>USA TODAY</td>\n",
              "      <td>Bloomberg</td>\n",
              "      <td>Bloomberg</td>\n",
              "      <td>RTT News</td>\n",
              "      <td>The Nation - Thailand&amp;#39;s English news</td>\n",
              "    </tr>\n",
              "    <tr>\n",
              "      <th>Topic</th>\n",
              "      <td>obama</td>\n",
              "      <td>economy</td>\n",
              "      <td>economy</td>\n",
              "      <td>economy</td>\n",
              "      <td>economy</td>\n",
              "    </tr>\n",
              "    <tr>\n",
              "      <th>PublishDate</th>\n",
              "      <td>2002-04-02 00:00:00</td>\n",
              "      <td>2008-09-20 00:00:00</td>\n",
              "      <td>2012-01-28 00:00:00</td>\n",
              "      <td>2015-03-01 00:06:00</td>\n",
              "      <td>2015-03-01 00:11:00</td>\n",
              "    </tr>\n",
              "    <tr>\n",
              "      <th>Facebook</th>\n",
              "      <td>-1</td>\n",
              "      <td>-1</td>\n",
              "      <td>-1</td>\n",
              "      <td>-1</td>\n",
              "      <td>-1</td>\n",
              "    </tr>\n",
              "    <tr>\n",
              "      <th>GooglePlus</th>\n",
              "      <td>-1</td>\n",
              "      <td>-1</td>\n",
              "      <td>-1</td>\n",
              "      <td>-1</td>\n",
              "      <td>-1</td>\n",
              "    </tr>\n",
              "    <tr>\n",
              "      <th>LinkedIn</th>\n",
              "      <td>-1</td>\n",
              "      <td>-1</td>\n",
              "      <td>-1</td>\n",
              "      <td>-1</td>\n",
              "      <td>-1</td>\n",
              "    </tr>\n",
              "    <tr>\n",
              "      <th>SentimentTitle</th>\n",
              "      <td>0</td>\n",
              "      <td>0.208333</td>\n",
              "      <td>-0.42521</td>\n",
              "      <td>0</td>\n",
              "      <td>0</td>\n",
              "    </tr>\n",
              "    <tr>\n",
              "      <th>SentimentHeadline</th>\n",
              "      <td>-0.0533002</td>\n",
              "      <td>-0.156386</td>\n",
              "      <td>0.139754</td>\n",
              "      <td>0.0260643</td>\n",
              "      <td>0.141084</td>\n",
              "    </tr>\n",
              "  </tbody>\n",
              "</table>\n",
              "</div>"
            ],
            "text/plain": [
              "                                                                                                                                                 0  ...                                                                                                                                                                            4\n",
              "IDLink                                                                                                                                  Tr3CMgRv1N  ...                                                                                                                                                                   wUbnxgvqaZ\n",
              "Title                                                                                             Obama Lays Wreath at Arlington National Cemetery  ...                                                                                                                         Tourism, govt spending buoys Thai economy in January\n",
              "Headline           Obama Lays Wreath at Arlington National Cemetery. President Barack Obama has laid a wreath at the Tomb of the Unknowns to honor  ...  Tourism and public spending continued to boost the economy in January, in light of contraction in private consumption and exports, according to the Bank of Thailand data. \n",
              "Source                                                                                                                                   USA TODAY  ...                                                                                                                                     The Nation - Thailand&#39;s English news\n",
              "Topic                                                                                                                                        obama  ...                                                                                                                                                                      economy\n",
              "PublishDate                                                                                                                    2002-04-02 00:00:00  ...                                                                                                                                                          2015-03-01 00:11:00\n",
              "Facebook                                                                                                                                        -1  ...                                                                                                                                                                           -1\n",
              "GooglePlus                                                                                                                                      -1  ...                                                                                                                                                                           -1\n",
              "LinkedIn                                                                                                                                        -1  ...                                                                                                                                                                           -1\n",
              "SentimentTitle                                                                                                                                   0  ...                                                                                                                                                                            0\n",
              "SentimentHeadline                                                                                                                       -0.0533002  ...                                                                                                                                                                     0.141084\n",
              "\n",
              "[11 rows x 5 columns]"
            ]
          },
          "metadata": {
            "tags": []
          },
          "execution_count": 176
        }
      ]
    },
    {
      "cell_type": "code",
      "metadata": {
        "id": "KDJeeCDHNh_3",
        "outputId": "9da656e5-e4be-4e6f-aa20-219de3ed1aca",
        "colab": {
          "base_uri": "https://localhost:8080/",
          "height": 221
        }
      },
      "source": [
        "data.dtypes"
      ],
      "execution_count": null,
      "outputs": [
        {
          "output_type": "execute_result",
          "data": {
            "text/plain": [
              "IDLink                       object\n",
              "Title                        object\n",
              "Headline                     object\n",
              "Source                       object\n",
              "Topic                        object\n",
              "PublishDate          datetime64[ns]\n",
              "Facebook                      int64\n",
              "GooglePlus                    int64\n",
              "LinkedIn                      int64\n",
              "SentimentTitle              float64\n",
              "SentimentHeadline           float64\n",
              "dtype: object"
            ]
          },
          "metadata": {
            "tags": []
          },
          "execution_count": 177
        }
      ]
    },
    {
      "cell_type": "code",
      "metadata": {
        "id": "EEK4yN26pmSR"
      },
      "source": [
        "X = data.drop(['IDLink','Title','Headline','SentimentTitle','SentimentHeadline'],axis=1)"
      ],
      "execution_count": null,
      "outputs": []
    },
    {
      "cell_type": "code",
      "metadata": {
        "id": "LAK-ouWYQttb"
      },
      "source": [
        "from sklearn.model_selection import train_test_split\n",
        "X_train,X_test,title_train,title_test,headline_train,headline_test=train_test_split(X,data['SentimentTitle'],data.SentimentHeadline,random_state=42)"
      ],
      "execution_count": null,
      "outputs": []
    },
    {
      "cell_type": "code",
      "metadata": {
        "id": "_BV2n6HIqies",
        "outputId": "d30f0c34-7a11-4c0d-d335-8b317d31a55f",
        "colab": {
          "base_uri": "https://localhost:8080/",
          "height": 34
        }
      },
      "source": [
        "print(X_train.shape,X_test.shape,title_train.shape,title_test.shape,headline_train.shape,headline_test.shape)"
      ],
      "execution_count": null,
      "outputs": [
        {
          "output_type": "stream",
          "text": [
            "(41949, 6) (13983, 6) (41949,) (13983,) (41949,) (13983,)\n"
          ],
          "name": "stdout"
        }
      ]
    },
    {
      "cell_type": "code",
      "metadata": {
        "id": "wCDQ73Nnr8B2"
      },
      "source": [
        "X_train.drop('Source',axis=1,inplace=True)\n",
        "X_test.drop('Source',axis=1,inplace=True)"
      ],
      "execution_count": null,
      "outputs": []
    },
    {
      "cell_type": "code",
      "metadata": {
        "id": "8ZrBcRqoteX8"
      },
      "source": [
        "\n",
        "X_train.Topic = X_train.Topic.map({'microsoft':1,'obama':2,'palestine':3,'economy':4})\n",
        "X_test.Topic = X_test.Topic.map({'microsoft':1,'obama':2,'palestine':3,'economy':4})"
      ],
      "execution_count": null,
      "outputs": []
    },
    {
      "cell_type": "code",
      "metadata": {
        "id": "MPDr_ru0rs2J",
        "outputId": "c1b47b7d-030d-405a-f9d5-3954ad1dd6d1",
        "colab": {
          "base_uri": "https://localhost:8080/",
          "height": 204
        }
      },
      "source": [
        "X_train.head()"
      ],
      "execution_count": null,
      "outputs": [
        {
          "output_type": "execute_result",
          "data": {
            "text/html": [
              "<div>\n",
              "<style scoped>\n",
              "    .dataframe tbody tr th:only-of-type {\n",
              "        vertical-align: middle;\n",
              "    }\n",
              "\n",
              "    .dataframe tbody tr th {\n",
              "        vertical-align: top;\n",
              "    }\n",
              "\n",
              "    .dataframe thead th {\n",
              "        text-align: right;\n",
              "    }\n",
              "</style>\n",
              "<table border=\"1\" class=\"dataframe\">\n",
              "  <thead>\n",
              "    <tr style=\"text-align: right;\">\n",
              "      <th></th>\n",
              "      <th>Topic</th>\n",
              "      <th>PublishDate</th>\n",
              "      <th>Facebook</th>\n",
              "      <th>GooglePlus</th>\n",
              "      <th>LinkedIn</th>\n",
              "    </tr>\n",
              "  </thead>\n",
              "  <tbody>\n",
              "    <tr>\n",
              "      <th>52969</th>\n",
              "      <td>1</td>\n",
              "      <td>2016-03-21 05:40:49</td>\n",
              "      <td>21</td>\n",
              "      <td>3</td>\n",
              "      <td>21</td>\n",
              "    </tr>\n",
              "    <tr>\n",
              "      <th>51408</th>\n",
              "      <td>2</td>\n",
              "      <td>2016-03-16 11:52:06</td>\n",
              "      <td>1898</td>\n",
              "      <td>5</td>\n",
              "      <td>4</td>\n",
              "    </tr>\n",
              "    <tr>\n",
              "      <th>14543</th>\n",
              "      <td>3</td>\n",
              "      <td>2015-12-15 12:04:46</td>\n",
              "      <td>0</td>\n",
              "      <td>0</td>\n",
              "      <td>0</td>\n",
              "    </tr>\n",
              "    <tr>\n",
              "      <th>3277</th>\n",
              "      <td>1</td>\n",
              "      <td>2015-11-17 16:14:14</td>\n",
              "      <td>7</td>\n",
              "      <td>10</td>\n",
              "      <td>2</td>\n",
              "    </tr>\n",
              "    <tr>\n",
              "      <th>30765</th>\n",
              "      <td>2</td>\n",
              "      <td>2016-01-25 14:35:00</td>\n",
              "      <td>87</td>\n",
              "      <td>0</td>\n",
              "      <td>0</td>\n",
              "    </tr>\n",
              "  </tbody>\n",
              "</table>\n",
              "</div>"
            ],
            "text/plain": [
              "       Topic         PublishDate  Facebook  GooglePlus  LinkedIn\n",
              "52969      1 2016-03-21 05:40:49        21           3        21\n",
              "51408      2 2016-03-16 11:52:06      1898           5         4\n",
              "14543      3 2015-12-15 12:04:46         0           0         0\n",
              "3277       1 2015-11-17 16:14:14         7          10         2\n",
              "30765      2 2016-01-25 14:35:00        87           0         0"
            ]
          },
          "metadata": {
            "tags": []
          },
          "execution_count": 183
        }
      ]
    },
    {
      "cell_type": "code",
      "metadata": {
        "id": "ihLws03DVsVs"
      },
      "source": [
        ""
      ],
      "execution_count": null,
      "outputs": []
    },
    {
      "cell_type": "code",
      "metadata": {
        "id": "AvONg3MZzGUI"
      },
      "source": [
        "X_train['day']=X_train.PublishDate.dt.dayofweek\n",
        "X_test['day']=X_test.PublishDate.dt.dayofweek"
      ],
      "execution_count": null,
      "outputs": []
    },
    {
      "cell_type": "code",
      "metadata": {
        "id": "aD5IZzYTuBuR"
      },
      "source": [
        "X_train.drop('PublishDate',axis=1,inplace=True)\n",
        "X_test.drop('PublishDate',axis=1,inplace=True)\n"
      ],
      "execution_count": null,
      "outputs": []
    },
    {
      "cell_type": "code",
      "metadata": {
        "id": "wsP-_6Lz1ON6"
      },
      "source": [
        ""
      ],
      "execution_count": null,
      "outputs": []
    },
    {
      "cell_type": "code",
      "metadata": {
        "id": "koy6ZlWNqi37",
        "outputId": "44ee7e07-3dc3-4391-b97f-23961d0466e9",
        "colab": {
          "base_uri": "https://localhost:8080/",
          "height": 51
        }
      },
      "source": [
        "from sklearn.ensemble import RandomForestRegressor \n",
        "RF = RandomForestRegressor()\n",
        "RF.fit(X_train,title_train)\n",
        "print(RF.score(X_train,title_train))\n",
        "print(RF.score(X_test,title_test))"
      ],
      "execution_count": null,
      "outputs": [
        {
          "output_type": "stream",
          "text": [
            "0.416874695226873\n",
            "-0.09767921487552078\n"
          ],
          "name": "stdout"
        }
      ]
    },
    {
      "cell_type": "code",
      "metadata": {
        "id": "_B0hAiteqjeY",
        "outputId": "61b7a82a-aa1b-41d5-91cb-16f769e49baa",
        "colab": {
          "base_uri": "https://localhost:8080/",
          "height": 297
        }
      },
      "source": [
        "data.describe()"
      ],
      "execution_count": null,
      "outputs": [
        {
          "output_type": "execute_result",
          "data": {
            "text/html": [
              "<div>\n",
              "<style scoped>\n",
              "    .dataframe tbody tr th:only-of-type {\n",
              "        vertical-align: middle;\n",
              "    }\n",
              "\n",
              "    .dataframe tbody tr th {\n",
              "        vertical-align: top;\n",
              "    }\n",
              "\n",
              "    .dataframe thead th {\n",
              "        text-align: right;\n",
              "    }\n",
              "</style>\n",
              "<table border=\"1\" class=\"dataframe\">\n",
              "  <thead>\n",
              "    <tr style=\"text-align: right;\">\n",
              "      <th></th>\n",
              "      <th>Facebook</th>\n",
              "      <th>GooglePlus</th>\n",
              "      <th>LinkedIn</th>\n",
              "      <th>SentimentTitle</th>\n",
              "      <th>SentimentHeadline</th>\n",
              "    </tr>\n",
              "  </thead>\n",
              "  <tbody>\n",
              "    <tr>\n",
              "      <th>count</th>\n",
              "      <td>55932.000000</td>\n",
              "      <td>55932.000000</td>\n",
              "      <td>55932.000000</td>\n",
              "      <td>55932.000000</td>\n",
              "      <td>55932.000000</td>\n",
              "    </tr>\n",
              "    <tr>\n",
              "      <th>mean</th>\n",
              "      <td>132.050329</td>\n",
              "      <td>4.551616</td>\n",
              "      <td>14.300132</td>\n",
              "      <td>-0.006318</td>\n",
              "      <td>-0.029577</td>\n",
              "    </tr>\n",
              "    <tr>\n",
              "      <th>std</th>\n",
              "      <td>722.931314</td>\n",
              "      <td>21.137177</td>\n",
              "      <td>76.651420</td>\n",
              "      <td>0.137569</td>\n",
              "      <td>0.143038</td>\n",
              "    </tr>\n",
              "    <tr>\n",
              "      <th>min</th>\n",
              "      <td>-1.000000</td>\n",
              "      <td>-1.000000</td>\n",
              "      <td>-1.000000</td>\n",
              "      <td>-0.838525</td>\n",
              "      <td>-0.755355</td>\n",
              "    </tr>\n",
              "    <tr>\n",
              "      <th>25%</th>\n",
              "      <td>0.000000</td>\n",
              "      <td>0.000000</td>\n",
              "      <td>0.000000</td>\n",
              "      <td>-0.079057</td>\n",
              "      <td>-0.116927</td>\n",
              "    </tr>\n",
              "    <tr>\n",
              "      <th>50%</th>\n",
              "      <td>6.000000</td>\n",
              "      <td>0.000000</td>\n",
              "      <td>0.000000</td>\n",
              "      <td>0.000000</td>\n",
              "      <td>-0.027277</td>\n",
              "    </tr>\n",
              "    <tr>\n",
              "      <th>75%</th>\n",
              "      <td>37.000000</td>\n",
              "      <td>2.000000</td>\n",
              "      <td>4.000000</td>\n",
              "      <td>0.063969</td>\n",
              "      <td>0.057354</td>\n",
              "    </tr>\n",
              "    <tr>\n",
              "      <th>max</th>\n",
              "      <td>49211.000000</td>\n",
              "      <td>1267.000000</td>\n",
              "      <td>3716.000000</td>\n",
              "      <td>0.962354</td>\n",
              "      <td>0.964646</td>\n",
              "    </tr>\n",
              "  </tbody>\n",
              "</table>\n",
              "</div>"
            ],
            "text/plain": [
              "           Facebook    GooglePlus  ...  SentimentTitle  SentimentHeadline\n",
              "count  55932.000000  55932.000000  ...    55932.000000       55932.000000\n",
              "mean     132.050329      4.551616  ...       -0.006318          -0.029577\n",
              "std      722.931314     21.137177  ...        0.137569           0.143038\n",
              "min       -1.000000     -1.000000  ...       -0.838525          -0.755355\n",
              "25%        0.000000      0.000000  ...       -0.079057          -0.116927\n",
              "50%        6.000000      0.000000  ...        0.000000          -0.027277\n",
              "75%       37.000000      2.000000  ...        0.063969           0.057354\n",
              "max    49211.000000   1267.000000  ...        0.962354           0.964646\n",
              "\n",
              "[8 rows x 5 columns]"
            ]
          },
          "metadata": {
            "tags": []
          },
          "execution_count": 189
        }
      ]
    },
    {
      "cell_type": "code",
      "metadata": {
        "id": "yxRnMTMpqi7x"
      },
      "source": [
        ""
      ],
      "execution_count": null,
      "outputs": []
    },
    {
      "cell_type": "code",
      "metadata": {
        "id": "e78jlTyZqijK"
      },
      "source": [
        ""
      ],
      "execution_count": null,
      "outputs": []
    },
    {
      "cell_type": "code",
      "metadata": {
        "id": "97yVSTvfRsNv",
        "outputId": "944895e3-ce2f-41c5-e81b-4c2ae2817d6d",
        "colab": {
          "base_uri": "https://localhost:8080/",
          "height": 645
        }
      },
      "source": [
        "data.head().T"
      ],
      "execution_count": null,
      "outputs": [
        {
          "output_type": "execute_result",
          "data": {
            "text/html": [
              "<div>\n",
              "<style scoped>\n",
              "    .dataframe tbody tr th:only-of-type {\n",
              "        vertical-align: middle;\n",
              "    }\n",
              "\n",
              "    .dataframe tbody tr th {\n",
              "        vertical-align: top;\n",
              "    }\n",
              "\n",
              "    .dataframe thead th {\n",
              "        text-align: right;\n",
              "    }\n",
              "</style>\n",
              "<table border=\"1\" class=\"dataframe\">\n",
              "  <thead>\n",
              "    <tr style=\"text-align: right;\">\n",
              "      <th></th>\n",
              "      <th>0</th>\n",
              "      <th>1</th>\n",
              "      <th>2</th>\n",
              "      <th>3</th>\n",
              "      <th>4</th>\n",
              "    </tr>\n",
              "  </thead>\n",
              "  <tbody>\n",
              "    <tr>\n",
              "      <th>IDLink</th>\n",
              "      <td>Tr3CMgRv1N</td>\n",
              "      <td>Wc81vGp8qZ</td>\n",
              "      <td>zNGH03CrZH</td>\n",
              "      <td>3sM1H0W8ts</td>\n",
              "      <td>wUbnxgvqaZ</td>\n",
              "    </tr>\n",
              "    <tr>\n",
              "      <th>Title</th>\n",
              "      <td>Obama Lays Wreath at Arlington National Cemetery</td>\n",
              "      <td>A Look at the Health of the Chinese Economy</td>\n",
              "      <td>Nouriel Roubini: Global Economy Not Back to 2008</td>\n",
              "      <td>Finland GDP Expands In Q4</td>\n",
              "      <td>Tourism, govt spending buoys Thai economy in January</td>\n",
              "    </tr>\n",
              "    <tr>\n",
              "      <th>Headline</th>\n",
              "      <td>Obama Lays Wreath at Arlington National Cemetery. President Barack Obama has laid a wreath at the Tomb of the Unknowns to honor</td>\n",
              "      <td>Tim Haywood, investment director business-unit head for fixed income at Gam, discusses the China beige book and the state of the economy.</td>\n",
              "      <td>Nouriel Roubini, NYU professor and chairman at Roubini Global Economics, explains why the global economy isn't facing the same conditions</td>\n",
              "      <td>Finland's economy expanded marginally in the three months ended December, after contracting in the previous quarter, preliminary figures from Statistics Finland showed Monday.</td>\n",
              "      <td>Tourism and public spending continued to boost the economy in January, in light of contraction in private consumption and exports, according to the Bank of Thailand data.</td>\n",
              "    </tr>\n",
              "    <tr>\n",
              "      <th>Source</th>\n",
              "      <td>USA TODAY</td>\n",
              "      <td>Bloomberg</td>\n",
              "      <td>Bloomberg</td>\n",
              "      <td>RTT News</td>\n",
              "      <td>The Nation - Thailand&amp;#39;s English news</td>\n",
              "    </tr>\n",
              "    <tr>\n",
              "      <th>Topic</th>\n",
              "      <td>obama</td>\n",
              "      <td>economy</td>\n",
              "      <td>economy</td>\n",
              "      <td>economy</td>\n",
              "      <td>economy</td>\n",
              "    </tr>\n",
              "    <tr>\n",
              "      <th>PublishDate</th>\n",
              "      <td>2002-04-02 00:00:00</td>\n",
              "      <td>2008-09-20 00:00:00</td>\n",
              "      <td>2012-01-28 00:00:00</td>\n",
              "      <td>2015-03-01 00:06:00</td>\n",
              "      <td>2015-03-01 00:11:00</td>\n",
              "    </tr>\n",
              "    <tr>\n",
              "      <th>Facebook</th>\n",
              "      <td>-1</td>\n",
              "      <td>-1</td>\n",
              "      <td>-1</td>\n",
              "      <td>-1</td>\n",
              "      <td>-1</td>\n",
              "    </tr>\n",
              "    <tr>\n",
              "      <th>GooglePlus</th>\n",
              "      <td>-1</td>\n",
              "      <td>-1</td>\n",
              "      <td>-1</td>\n",
              "      <td>-1</td>\n",
              "      <td>-1</td>\n",
              "    </tr>\n",
              "    <tr>\n",
              "      <th>LinkedIn</th>\n",
              "      <td>-1</td>\n",
              "      <td>-1</td>\n",
              "      <td>-1</td>\n",
              "      <td>-1</td>\n",
              "      <td>-1</td>\n",
              "    </tr>\n",
              "    <tr>\n",
              "      <th>SentimentTitle</th>\n",
              "      <td>0</td>\n",
              "      <td>0.208333</td>\n",
              "      <td>-0.42521</td>\n",
              "      <td>0</td>\n",
              "      <td>0</td>\n",
              "    </tr>\n",
              "    <tr>\n",
              "      <th>SentimentHeadline</th>\n",
              "      <td>-0.0533002</td>\n",
              "      <td>-0.156386</td>\n",
              "      <td>0.139754</td>\n",
              "      <td>0.0260643</td>\n",
              "      <td>0.141084</td>\n",
              "    </tr>\n",
              "  </tbody>\n",
              "</table>\n",
              "</div>"
            ],
            "text/plain": [
              "                                                                                                                                                 0  ...                                                                                                                                                                            4\n",
              "IDLink                                                                                                                                  Tr3CMgRv1N  ...                                                                                                                                                                   wUbnxgvqaZ\n",
              "Title                                                                                             Obama Lays Wreath at Arlington National Cemetery  ...                                                                                                                         Tourism, govt spending buoys Thai economy in January\n",
              "Headline           Obama Lays Wreath at Arlington National Cemetery. President Barack Obama has laid a wreath at the Tomb of the Unknowns to honor  ...  Tourism and public spending continued to boost the economy in January, in light of contraction in private consumption and exports, according to the Bank of Thailand data. \n",
              "Source                                                                                                                                   USA TODAY  ...                                                                                                                                     The Nation - Thailand&#39;s English news\n",
              "Topic                                                                                                                                        obama  ...                                                                                                                                                                      economy\n",
              "PublishDate                                                                                                                    2002-04-02 00:00:00  ...                                                                                                                                                          2015-03-01 00:11:00\n",
              "Facebook                                                                                                                                        -1  ...                                                                                                                                                                           -1\n",
              "GooglePlus                                                                                                                                      -1  ...                                                                                                                                                                           -1\n",
              "LinkedIn                                                                                                                                        -1  ...                                                                                                                                                                           -1\n",
              "SentimentTitle                                                                                                                                   0  ...                                                                                                                                                                            0\n",
              "SentimentHeadline                                                                                                                       -0.0533002  ...                                                                                                                                                                     0.141084\n",
              "\n",
              "[11 rows x 5 columns]"
            ]
          },
          "metadata": {
            "tags": []
          },
          "execution_count": 190
        }
      ]
    },
    {
      "cell_type": "code",
      "metadata": {
        "id": "ApgFkc5U87pM"
      },
      "source": [
        ""
      ],
      "execution_count": null,
      "outputs": []
    },
    {
      "cell_type": "code",
      "metadata": {
        "id": "CEcSLViI87zc"
      },
      "source": [
        ""
      ],
      "execution_count": null,
      "outputs": []
    },
    {
      "cell_type": "code",
      "metadata": {
        "id": "PJg3cjZv9hpM"
      },
      "source": [
        "import re     \n",
        "import nltk   "
      ],
      "execution_count": null,
      "outputs": []
    },
    {
      "cell_type": "code",
      "metadata": {
        "id": "Bz4y0OxWBLBz",
        "outputId": "9df5044a-80be-425b-e603-bd3cd0932fbd",
        "colab": {
          "base_uri": "https://localhost:8080/",
          "height": 34
        }
      },
      "source": [
        "data.shape"
      ],
      "execution_count": null,
      "outputs": [
        {
          "output_type": "execute_result",
          "data": {
            "text/plain": [
              "(55932, 11)"
            ]
          },
          "metadata": {
            "tags": []
          },
          "execution_count": 192
        }
      ]
    },
    {
      "cell_type": "code",
      "metadata": {
        "id": "qPrKfDgWBNZk",
        "outputId": "60b39f0f-50a2-4ad9-f857-fcc69c1580e3",
        "colab": {
          "base_uri": "https://localhost:8080/",
          "height": 34
        }
      },
      "source": [
        "test.shape"
      ],
      "execution_count": null,
      "outputs": [
        {
          "output_type": "execute_result",
          "data": {
            "text/plain": [
              "(37288, 9)"
            ]
          },
          "metadata": {
            "tags": []
          },
          "execution_count": 193
        }
      ]
    },
    {
      "cell_type": "code",
      "metadata": {
        "id": "EfVajyxq87jg",
        "outputId": "213b0f88-ab04-4901-a46e-6aa6ad6b94dd",
        "colab": {
          "base_uri": "https://localhost:8080/",
          "height": 34
        }
      },
      "source": [
        "TrainTest = data.append(test, ignore_index=True, sort=True)\n",
        "TrainTest.shape"
      ],
      "execution_count": null,
      "outputs": [
        {
          "output_type": "execute_result",
          "data": {
            "text/plain": [
              "(93220, 11)"
            ]
          },
          "metadata": {
            "tags": []
          },
          "execution_count": 194
        }
      ]
    },
    {
      "cell_type": "code",
      "metadata": {
        "id": "DqNvOPXe9FkE"
      },
      "source": [
        "TrainTest['clean'] = TrainTest.Headline.str.replace(\"[^a-zA-Z]\", \" \")\n",
        "TrainTest.clean = TrainTest.clean.apply(lambda x: ' '.join([w for w in x.split() if len(w) > 3]))\n"
      ],
      "execution_count": null,
      "outputs": []
    },
    {
      "cell_type": "code",
      "metadata": {
        "id": "mldzmu1pJJyn"
      },
      "source": [
        "TrainTest['tclean'] = TrainTest.Title.str.replace(\"[^a-zA-Z]\", \" \")\n",
        "TrainTest.tclean = TrainTest.tclean.apply(lambda x: ' '.join([w for w in x.split() if len(w) > 3]))\n"
      ],
      "execution_count": null,
      "outputs": []
    },
    {
      "cell_type": "code",
      "metadata": {
        "id": "IwcEv4Y29Uup",
        "outputId": "b10249f2-7a26-4025-ae44-5c20205e7d89",
        "colab": {
          "base_uri": "https://localhost:8080/",
          "height": 877
        }
      },
      "source": [
        "TrainTest.head().T"
      ],
      "execution_count": null,
      "outputs": [
        {
          "output_type": "execute_result",
          "data": {
            "text/html": [
              "<div>\n",
              "<style scoped>\n",
              "    .dataframe tbody tr th:only-of-type {\n",
              "        vertical-align: middle;\n",
              "    }\n",
              "\n",
              "    .dataframe tbody tr th {\n",
              "        vertical-align: top;\n",
              "    }\n",
              "\n",
              "    .dataframe thead th {\n",
              "        text-align: right;\n",
              "    }\n",
              "</style>\n",
              "<table border=\"1\" class=\"dataframe\">\n",
              "  <thead>\n",
              "    <tr style=\"text-align: right;\">\n",
              "      <th></th>\n",
              "      <th>0</th>\n",
              "      <th>1</th>\n",
              "      <th>2</th>\n",
              "      <th>3</th>\n",
              "      <th>4</th>\n",
              "    </tr>\n",
              "  </thead>\n",
              "  <tbody>\n",
              "    <tr>\n",
              "      <th>Facebook</th>\n",
              "      <td>-1</td>\n",
              "      <td>-1</td>\n",
              "      <td>-1</td>\n",
              "      <td>-1</td>\n",
              "      <td>-1</td>\n",
              "    </tr>\n",
              "    <tr>\n",
              "      <th>GooglePlus</th>\n",
              "      <td>-1</td>\n",
              "      <td>-1</td>\n",
              "      <td>-1</td>\n",
              "      <td>-1</td>\n",
              "      <td>-1</td>\n",
              "    </tr>\n",
              "    <tr>\n",
              "      <th>Headline</th>\n",
              "      <td>Obama Lays Wreath at Arlington National Cemetery. President Barack Obama has laid a wreath at the Tomb of the Unknowns to honor</td>\n",
              "      <td>Tim Haywood, investment director business-unit head for fixed income at Gam, discusses the China beige book and the state of the economy.</td>\n",
              "      <td>Nouriel Roubini, NYU professor and chairman at Roubini Global Economics, explains why the global economy isn't facing the same conditions</td>\n",
              "      <td>Finland's economy expanded marginally in the three months ended December, after contracting in the previous quarter, preliminary figures from Statistics Finland showed Monday.</td>\n",
              "      <td>Tourism and public spending continued to boost the economy in January, in light of contraction in private consumption and exports, according to the Bank of Thailand data.</td>\n",
              "    </tr>\n",
              "    <tr>\n",
              "      <th>IDLink</th>\n",
              "      <td>Tr3CMgRv1N</td>\n",
              "      <td>Wc81vGp8qZ</td>\n",
              "      <td>zNGH03CrZH</td>\n",
              "      <td>3sM1H0W8ts</td>\n",
              "      <td>wUbnxgvqaZ</td>\n",
              "    </tr>\n",
              "    <tr>\n",
              "      <th>LinkedIn</th>\n",
              "      <td>-1</td>\n",
              "      <td>-1</td>\n",
              "      <td>-1</td>\n",
              "      <td>-1</td>\n",
              "      <td>-1</td>\n",
              "    </tr>\n",
              "    <tr>\n",
              "      <th>PublishDate</th>\n",
              "      <td>2002-04-02 00:00:00</td>\n",
              "      <td>2008-09-20 00:00:00</td>\n",
              "      <td>2012-01-28 00:00:00</td>\n",
              "      <td>2015-03-01 00:06:00</td>\n",
              "      <td>2015-03-01 00:11:00</td>\n",
              "    </tr>\n",
              "    <tr>\n",
              "      <th>SentimentHeadline</th>\n",
              "      <td>-0.0533002</td>\n",
              "      <td>-0.156386</td>\n",
              "      <td>0.139754</td>\n",
              "      <td>0.0260643</td>\n",
              "      <td>0.141084</td>\n",
              "    </tr>\n",
              "    <tr>\n",
              "      <th>SentimentTitle</th>\n",
              "      <td>0</td>\n",
              "      <td>0.208333</td>\n",
              "      <td>-0.42521</td>\n",
              "      <td>0</td>\n",
              "      <td>0</td>\n",
              "    </tr>\n",
              "    <tr>\n",
              "      <th>Source</th>\n",
              "      <td>USA TODAY</td>\n",
              "      <td>Bloomberg</td>\n",
              "      <td>Bloomberg</td>\n",
              "      <td>RTT News</td>\n",
              "      <td>The Nation - Thailand&amp;#39;s English news</td>\n",
              "    </tr>\n",
              "    <tr>\n",
              "      <th>Title</th>\n",
              "      <td>Obama Lays Wreath at Arlington National Cemetery</td>\n",
              "      <td>A Look at the Health of the Chinese Economy</td>\n",
              "      <td>Nouriel Roubini: Global Economy Not Back to 2008</td>\n",
              "      <td>Finland GDP Expands In Q4</td>\n",
              "      <td>Tourism, govt spending buoys Thai economy in January</td>\n",
              "    </tr>\n",
              "    <tr>\n",
              "      <th>Topic</th>\n",
              "      <td>obama</td>\n",
              "      <td>economy</td>\n",
              "      <td>economy</td>\n",
              "      <td>economy</td>\n",
              "      <td>economy</td>\n",
              "    </tr>\n",
              "    <tr>\n",
              "      <th>clean</th>\n",
              "      <td>Obama Lays Wreath Arlington National Cemetery President Barack Obama laid wreath Tomb Unknowns honor</td>\n",
              "      <td>Haywood investment director business unit head fixed income discusses China beige book state economy</td>\n",
              "      <td>Nouriel Roubini professor chairman Roubini Global Economics explains global economy facing same conditions</td>\n",
              "      <td>Finland economy expanded marginally three months ended December after contracting previous quarter preliminary figures from Statistics Finland showed Monday</td>\n",
              "      <td>Tourism public spending continued boost economy January light contraction private consumption exports according Bank Thailand data</td>\n",
              "    </tr>\n",
              "    <tr>\n",
              "      <th>tclean</th>\n",
              "      <td>Obama Lays Wreath Arlington National Cemetery</td>\n",
              "      <td>Look Health Chinese Economy</td>\n",
              "      <td>Nouriel Roubini Global Economy Back</td>\n",
              "      <td>Finland Expands</td>\n",
              "      <td>Tourism govt spending buoys Thai economy January</td>\n",
              "    </tr>\n",
              "  </tbody>\n",
              "</table>\n",
              "</div>"
            ],
            "text/plain": [
              "                                                                                                                                                 0  ...                                                                                                                                                                            4\n",
              "Facebook                                                                                                                                        -1  ...                                                                                                                                                                           -1\n",
              "GooglePlus                                                                                                                                      -1  ...                                                                                                                                                                           -1\n",
              "Headline           Obama Lays Wreath at Arlington National Cemetery. President Barack Obama has laid a wreath at the Tomb of the Unknowns to honor  ...  Tourism and public spending continued to boost the economy in January, in light of contraction in private consumption and exports, according to the Bank of Thailand data. \n",
              "IDLink                                                                                                                                  Tr3CMgRv1N  ...                                                                                                                                                                   wUbnxgvqaZ\n",
              "LinkedIn                                                                                                                                        -1  ...                                                                                                                                                                           -1\n",
              "PublishDate                                                                                                                    2002-04-02 00:00:00  ...                                                                                                                                                          2015-03-01 00:11:00\n",
              "SentimentHeadline                                                                                                                       -0.0533002  ...                                                                                                                                                                     0.141084\n",
              "SentimentTitle                                                                                                                                   0  ...                                                                                                                                                                            0\n",
              "Source                                                                                                                                   USA TODAY  ...                                                                                                                                     The Nation - Thailand&#39;s English news\n",
              "Title                                                                                             Obama Lays Wreath at Arlington National Cemetery  ...                                                                                                                         Tourism, govt spending buoys Thai economy in January\n",
              "Topic                                                                                                                                        obama  ...                                                                                                                                                                      economy\n",
              "clean                                         Obama Lays Wreath Arlington National Cemetery President Barack Obama laid wreath Tomb Unknowns honor  ...                                           Tourism public spending continued boost economy January light contraction private consumption exports according Bank Thailand data\n",
              "tclean                                                                                               Obama Lays Wreath Arlington National Cemetery  ...                                                                                                                             Tourism govt spending buoys Thai economy January\n",
              "\n",
              "[13 rows x 5 columns]"
            ]
          },
          "metadata": {
            "tags": []
          },
          "execution_count": 197
        }
      ]
    },
    {
      "cell_type": "code",
      "metadata": {
        "id": "X3AlPHV-9o88",
        "outputId": "b1712256-3993-4835-ff6b-ca49889ed6ee",
        "colab": {
          "base_uri": "https://localhost:8080/",
          "height": 139
        }
      },
      "source": [
        "tokenized_text = TrainTest.clean.apply(lambda x: x.split())\n",
        "tokenized_text.head()"
      ],
      "execution_count": null,
      "outputs": [
        {
          "output_type": "execute_result",
          "data": {
            "text/plain": [
              "0                                                                 [Obama, Lays, Wreath, Arlington, National, Cemetery, President, Barack, Obama, laid, wreath, Tomb, Unknowns, honor]\n",
              "1                                                                 [Haywood, investment, director, business, unit, head, fixed, income, discusses, China, beige, book, state, economy]\n",
              "2                                                            [Nouriel, Roubini, professor, chairman, Roubini, Global, Economics, explains, global, economy, facing, same, conditions]\n",
              "3    [Finland, economy, expanded, marginally, three, months, ended, December, after, contracting, previous, quarter, preliminary, figures, from, Statistics, Finland, showed, Monday]\n",
              "4                                 [Tourism, public, spending, continued, boost, economy, January, light, contraction, private, consumption, exports, according, Bank, Thailand, data]\n",
              "Name: clean, dtype: object"
            ]
          },
          "metadata": {
            "tags": []
          },
          "execution_count": 198
        }
      ]
    },
    {
      "cell_type": "code",
      "metadata": {
        "id": "HvlBI1idTujV",
        "outputId": "04ca2a1e-3b29-4c6c-bb32-7f55afad2dbf",
        "colab": {
          "base_uri": "https://localhost:8080/",
          "height": 119
        }
      },
      "source": [
        "ttokenized_text = TrainTest.tclean.apply(lambda x: x.split())\n",
        "ttokenized_text.head()"
      ],
      "execution_count": null,
      "outputs": [
        {
          "output_type": "execute_result",
          "data": {
            "text/plain": [
              "0        [Obama, Lays, Wreath, Arlington, National, Cemetery]\n",
              "1                            [Look, Health, Chinese, Economy]\n",
              "2                   [Nouriel, Roubini, Global, Economy, Back]\n",
              "3                                          [Finland, Expands]\n",
              "4    [Tourism, govt, spending, buoys, Thai, economy, January]\n",
              "Name: tclean, dtype: object"
            ]
          },
          "metadata": {
            "tags": []
          },
          "execution_count": 199
        }
      ]
    },
    {
      "cell_type": "code",
      "metadata": {
        "id": "gjI59afA9-H2"
      },
      "source": [
        "from nltk.stem.porter import * \n",
        "stemmer = PorterStemmer() \n",
        "tokenized_text = tokenized_text.apply(lambda x: [stemmer.stem(i) for i in x]) \n",
        "ttokenized_text = ttokenized_text.apply(lambda x: [stemmer.stem(i) for i in x]) \n"
      ],
      "execution_count": null,
      "outputs": []
    },
    {
      "cell_type": "code",
      "metadata": {
        "id": "d9IUFwK2-Lrw"
      },
      "source": [
        "\n",
        "for i in range(len(tokenized_text)):\n",
        "    tokenized_text[i] = ' '.join(tokenized_text[i])    \n",
        "TrainTest['clean'] = tokenized_text\n",
        "\n",
        "for i in range(len(ttokenized_text)):\n",
        "    ttokenized_text[i] = ' '.join(ttokenized_text[i])    \n",
        "TrainTest['tclean'] = ttokenized_text\n"
      ],
      "execution_count": null,
      "outputs": []
    },
    {
      "cell_type": "code",
      "metadata": {
        "id": "P991ujtJ-cV2",
        "outputId": "dc9872b7-4802-4276-9327-3e73c64ac313",
        "colab": {
          "base_uri": "https://localhost:8080/",
          "height": 843
        }
      },
      "source": [
        "TrainTest.head().T"
      ],
      "execution_count": null,
      "outputs": [
        {
          "output_type": "execute_result",
          "data": {
            "text/html": [
              "<div>\n",
              "<style scoped>\n",
              "    .dataframe tbody tr th:only-of-type {\n",
              "        vertical-align: middle;\n",
              "    }\n",
              "\n",
              "    .dataframe tbody tr th {\n",
              "        vertical-align: top;\n",
              "    }\n",
              "\n",
              "    .dataframe thead th {\n",
              "        text-align: right;\n",
              "    }\n",
              "</style>\n",
              "<table border=\"1\" class=\"dataframe\">\n",
              "  <thead>\n",
              "    <tr style=\"text-align: right;\">\n",
              "      <th></th>\n",
              "      <th>0</th>\n",
              "      <th>1</th>\n",
              "      <th>2</th>\n",
              "      <th>3</th>\n",
              "      <th>4</th>\n",
              "    </tr>\n",
              "  </thead>\n",
              "  <tbody>\n",
              "    <tr>\n",
              "      <th>Facebook</th>\n",
              "      <td>-1</td>\n",
              "      <td>-1</td>\n",
              "      <td>-1</td>\n",
              "      <td>-1</td>\n",
              "      <td>-1</td>\n",
              "    </tr>\n",
              "    <tr>\n",
              "      <th>GooglePlus</th>\n",
              "      <td>-1</td>\n",
              "      <td>-1</td>\n",
              "      <td>-1</td>\n",
              "      <td>-1</td>\n",
              "      <td>-1</td>\n",
              "    </tr>\n",
              "    <tr>\n",
              "      <th>Headline</th>\n",
              "      <td>Obama Lays Wreath at Arlington National Cemetery. President Barack Obama has laid a wreath at the Tomb of the Unknowns to honor</td>\n",
              "      <td>Tim Haywood, investment director business-unit head for fixed income at Gam, discusses the China beige book and the state of the economy.</td>\n",
              "      <td>Nouriel Roubini, NYU professor and chairman at Roubini Global Economics, explains why the global economy isn't facing the same conditions</td>\n",
              "      <td>Finland's economy expanded marginally in the three months ended December, after contracting in the previous quarter, preliminary figures from Statistics Finland showed Monday.</td>\n",
              "      <td>Tourism and public spending continued to boost the economy in January, in light of contraction in private consumption and exports, according to the Bank of Thailand data.</td>\n",
              "    </tr>\n",
              "    <tr>\n",
              "      <th>IDLink</th>\n",
              "      <td>Tr3CMgRv1N</td>\n",
              "      <td>Wc81vGp8qZ</td>\n",
              "      <td>zNGH03CrZH</td>\n",
              "      <td>3sM1H0W8ts</td>\n",
              "      <td>wUbnxgvqaZ</td>\n",
              "    </tr>\n",
              "    <tr>\n",
              "      <th>LinkedIn</th>\n",
              "      <td>-1</td>\n",
              "      <td>-1</td>\n",
              "      <td>-1</td>\n",
              "      <td>-1</td>\n",
              "      <td>-1</td>\n",
              "    </tr>\n",
              "    <tr>\n",
              "      <th>PublishDate</th>\n",
              "      <td>2002-04-02 00:00:00</td>\n",
              "      <td>2008-09-20 00:00:00</td>\n",
              "      <td>2012-01-28 00:00:00</td>\n",
              "      <td>2015-03-01 00:06:00</td>\n",
              "      <td>2015-03-01 00:11:00</td>\n",
              "    </tr>\n",
              "    <tr>\n",
              "      <th>SentimentHeadline</th>\n",
              "      <td>-0.0533002</td>\n",
              "      <td>-0.156386</td>\n",
              "      <td>0.139754</td>\n",
              "      <td>0.0260643</td>\n",
              "      <td>0.141084</td>\n",
              "    </tr>\n",
              "    <tr>\n",
              "      <th>SentimentTitle</th>\n",
              "      <td>0</td>\n",
              "      <td>0.208333</td>\n",
              "      <td>-0.42521</td>\n",
              "      <td>0</td>\n",
              "      <td>0</td>\n",
              "    </tr>\n",
              "    <tr>\n",
              "      <th>Source</th>\n",
              "      <td>USA TODAY</td>\n",
              "      <td>Bloomberg</td>\n",
              "      <td>Bloomberg</td>\n",
              "      <td>RTT News</td>\n",
              "      <td>The Nation - Thailand&amp;#39;s English news</td>\n",
              "    </tr>\n",
              "    <tr>\n",
              "      <th>Title</th>\n",
              "      <td>Obama Lays Wreath at Arlington National Cemetery</td>\n",
              "      <td>A Look at the Health of the Chinese Economy</td>\n",
              "      <td>Nouriel Roubini: Global Economy Not Back to 2008</td>\n",
              "      <td>Finland GDP Expands In Q4</td>\n",
              "      <td>Tourism, govt spending buoys Thai economy in January</td>\n",
              "    </tr>\n",
              "    <tr>\n",
              "      <th>Topic</th>\n",
              "      <td>obama</td>\n",
              "      <td>economy</td>\n",
              "      <td>economy</td>\n",
              "      <td>economy</td>\n",
              "      <td>economy</td>\n",
              "    </tr>\n",
              "    <tr>\n",
              "      <th>clean</th>\n",
              "      <td>obama lay wreath arlington nation cemeteri presid barack obama laid wreath tomb unknown honor</td>\n",
              "      <td>haywood invest director busi unit head fix incom discuss china beig book state economi</td>\n",
              "      <td>nouriel roubini professor chairman roubini global econom explain global economi face same condit</td>\n",
              "      <td>finland economi expand margin three month end decemb after contract previou quarter preliminari figur from statist finland show monday</td>\n",
              "      <td>tourism public spend continu boost economi januari light contract privat consumpt export accord bank thailand data</td>\n",
              "    </tr>\n",
              "    <tr>\n",
              "      <th>tclean</th>\n",
              "      <td>obama lay wreath arlington nation cemeteri</td>\n",
              "      <td>look health chines economi</td>\n",
              "      <td>nouriel roubini global economi back</td>\n",
              "      <td>finland expand</td>\n",
              "      <td>tourism govt spend buoy thai economi januari</td>\n",
              "    </tr>\n",
              "  </tbody>\n",
              "</table>\n",
              "</div>"
            ],
            "text/plain": [
              "                                                                                                                                                 0  ...                                                                                                                                                                            4\n",
              "Facebook                                                                                                                                        -1  ...                                                                                                                                                                           -1\n",
              "GooglePlus                                                                                                                                      -1  ...                                                                                                                                                                           -1\n",
              "Headline           Obama Lays Wreath at Arlington National Cemetery. President Barack Obama has laid a wreath at the Tomb of the Unknowns to honor  ...  Tourism and public spending continued to boost the economy in January, in light of contraction in private consumption and exports, according to the Bank of Thailand data. \n",
              "IDLink                                                                                                                                  Tr3CMgRv1N  ...                                                                                                                                                                   wUbnxgvqaZ\n",
              "LinkedIn                                                                                                                                        -1  ...                                                                                                                                                                           -1\n",
              "PublishDate                                                                                                                    2002-04-02 00:00:00  ...                                                                                                                                                          2015-03-01 00:11:00\n",
              "SentimentHeadline                                                                                                                       -0.0533002  ...                                                                                                                                                                     0.141084\n",
              "SentimentTitle                                                                                                                                   0  ...                                                                                                                                                                            0\n",
              "Source                                                                                                                                   USA TODAY  ...                                                                                                                                     The Nation - Thailand&#39;s English news\n",
              "Title                                                                                             Obama Lays Wreath at Arlington National Cemetery  ...                                                                                                                         Tourism, govt spending buoys Thai economy in January\n",
              "Topic                                                                                                                                        obama  ...                                                                                                                                                                      economy\n",
              "clean                                                obama lay wreath arlington nation cemeteri presid barack obama laid wreath tomb unknown honor  ...                                                           tourism public spend continu boost economi januari light contract privat consumpt export accord bank thailand data\n",
              "tclean                                                                                                  obama lay wreath arlington nation cemeteri  ...                                                                                                                                 tourism govt spend buoy thai economi januari\n",
              "\n",
              "[13 rows x 5 columns]"
            ]
          },
          "metadata": {
            "tags": []
          },
          "execution_count": 202
        }
      ]
    },
    {
      "cell_type": "code",
      "metadata": {
        "id": "FXKYf7FP_PlM",
        "outputId": "f3667f11-d146-4e81-ed9a-12ac27bdc1d4",
        "colab": {
          "base_uri": "https://localhost:8080/",
          "height": 34
        }
      },
      "source": [
        "tokenized_text = TrainTest['clean'].apply(lambda x: x.split())\n",
        "\n",
        "model_w2v = gensim.models.Word2Vec(\n",
        "            tokenized_text,\n",
        "            size=75,\n",
        "            window=5, \n",
        "            min_count=2,                                   \n",
        "            sg = 1,\n",
        "            hs = 0,\n",
        "            negative = 10, \n",
        "            workers= 32,\n",
        "            seed = 34\n",
        ") \n",
        "\n",
        "model_w2v.train(tokenized_text, total_examples= len(TrainTest['clean']), epochs=20)"
      ],
      "execution_count": null,
      "outputs": [
        {
          "output_type": "execute_result",
          "data": {
            "text/plain": [
              "(28419671, 31801740)"
            ]
          },
          "metadata": {
            "tags": []
          },
          "execution_count": 203
        }
      ]
    },
    {
      "cell_type": "code",
      "metadata": {
        "id": "-Cp58FtLUGtS",
        "outputId": "50286be4-c378-47ba-9812-61f2d1870dc7",
        "colab": {
          "base_uri": "https://localhost:8080/",
          "height": 34
        }
      },
      "source": [
        "ttokenized_text = TrainTest['tclean'].apply(lambda x: x.split())\n",
        "\n",
        "tmodel_w2v = gensim.models.Word2Vec(\n",
        "            ttokenized_text,\n",
        "            size=200,\n",
        "            window=5, \n",
        "            min_count=2,                                   \n",
        "            sg = 1,\n",
        "            hs = 0,\n",
        "            negative = 10, \n",
        "            workers= 32,\n",
        "            seed = 34\n",
        ") \n",
        "\n",
        "tmodel_w2v.train(ttokenized_text, total_examples= len(TrainTest['tclean']), epochs=20)"
      ],
      "execution_count": null,
      "outputs": [
        {
          "output_type": "execute_result",
          "data": {
            "text/plain": [
              "(10178048, 11881020)"
            ]
          },
          "metadata": {
            "tags": []
          },
          "execution_count": 204
        }
      ]
    },
    {
      "cell_type": "code",
      "metadata": {
        "id": "HS7qnakVAFyz"
      },
      "source": [
        "def word_vector(tokens, size):\n",
        "    vec = np.zeros(size).reshape((1, size))\n",
        "    count = 0\n",
        "    for word in tokens:\n",
        "        try:\n",
        "            vec += model_w2v[word].reshape((1, size))\n",
        "            count += 1.\n",
        "        except KeyError: \n",
        "            continue\n",
        "    if count != 0:\n",
        "        vec /= count\n",
        "    return vec"
      ],
      "execution_count": null,
      "outputs": []
    },
    {
      "cell_type": "code",
      "metadata": {
        "id": "Km1RgRciYEIi"
      },
      "source": [
        "def tword_vector(tokens, size):\n",
        "    vec = np.zeros(size).reshape((1, size))\n",
        "    count = 0\n",
        "    for word in tokens:\n",
        "        try:\n",
        "            vec += tmodel_w2v[word].reshape((1, size))\n",
        "            count += 1.\n",
        "        except KeyError: \n",
        "            continue\n",
        "    if count != 0:\n",
        "        vec /= count\n",
        "    return vec"
      ],
      "execution_count": null,
      "outputs": []
    },
    {
      "cell_type": "code",
      "metadata": {
        "id": "BPQYMz4SAef5",
        "outputId": "df432cf4-a0d6-428b-d142-e85b0da753ba",
        "colab": {
          "base_uri": "https://localhost:8080/",
          "height": 34
        }
      },
      "source": [
        "wordvec_arrays = np.zeros((len(tokenized_text), 75)) \n",
        "for i in range(len(tokenized_text)):\n",
        "    wordvec_arrays[i,:] = word_vector(tokenized_text[i], 75)\n",
        "wordvec_df = pd.DataFrame(wordvec_arrays)\n",
        "wordvec_df.shape"
      ],
      "execution_count": null,
      "outputs": [
        {
          "output_type": "execute_result",
          "data": {
            "text/plain": [
              "(93220, 75)"
            ]
          },
          "metadata": {
            "tags": []
          },
          "execution_count": 206
        }
      ]
    },
    {
      "cell_type": "code",
      "metadata": {
        "id": "htLabUp6Uapr",
        "outputId": "48bf58dc-7fa7-4259-f806-638a456f09eb",
        "colab": {
          "base_uri": "https://localhost:8080/",
          "height": 34
        }
      },
      "source": [
        "twordvec_arrays = np.zeros((len(ttokenized_text), 200)) \n",
        "for i in range(len(ttokenized_text)):\n",
        "    twordvec_arrays[i,:] = tword_vector(ttokenized_text[i], 200)\n",
        "twordvec_df = pd.DataFrame(twordvec_arrays)\n",
        "twordvec_df.shape"
      ],
      "execution_count": null,
      "outputs": [
        {
          "output_type": "execute_result",
          "data": {
            "text/plain": [
              "(93220, 200)"
            ]
          },
          "metadata": {
            "tags": []
          },
          "execution_count": 210
        }
      ]
    },
    {
      "cell_type": "code",
      "metadata": {
        "id": "CBdHx9WYAjw4"
      },
      "source": [
        "train_w2v = wordvec_df.iloc[:55932,:]\n",
        "test_w2v = wordvec_df.iloc[55932:,:]"
      ],
      "execution_count": null,
      "outputs": []
    },
    {
      "cell_type": "code",
      "metadata": {
        "id": "RLDE3js_UswD"
      },
      "source": [
        "ttrain_w2v = twordvec_df.iloc[:55932,:]\n",
        "ttest_w2v = twordvec_df.iloc[55932:,:]"
      ],
      "execution_count": null,
      "outputs": []
    },
    {
      "cell_type": "code",
      "metadata": {
        "id": "bP5DCMT3BzS5",
        "outputId": "d511d25c-f3e9-4089-80ca-c75b143bb054",
        "colab": {
          "base_uri": "https://localhost:8080/",
          "height": 34
        }
      },
      "source": [
        "print(train_w2v.shape,data.shape)"
      ],
      "execution_count": null,
      "outputs": [
        {
          "output_type": "stream",
          "text": [
            "(55932, 75) (55932, 11)\n"
          ],
          "name": "stdout"
        }
      ]
    },
    {
      "cell_type": "code",
      "metadata": {
        "id": "d0fKH7J7B_L1",
        "outputId": "45c0d3fb-9451-41cd-9e26-15b7ed122693",
        "colab": {
          "base_uri": "https://localhost:8080/",
          "height": 323
        }
      },
      "source": [
        "RF.fit(train_w2v,data['SentimentHeadline'])"
      ],
      "execution_count": null,
      "outputs": [
        {
          "output_type": "error",
          "ename": "KeyboardInterrupt",
          "evalue": "ignored",
          "traceback": [
            "\u001b[0;31m---------------------------------------------------------------------------\u001b[0m",
            "\u001b[0;31mKeyboardInterrupt\u001b[0m                         Traceback (most recent call last)",
            "\u001b[0;32m<ipython-input-214-1823c30c8e8f>\u001b[0m in \u001b[0;36m<module>\u001b[0;34m()\u001b[0m\n\u001b[0;32m----> 1\u001b[0;31m \u001b[0mRF\u001b[0m\u001b[0;34m.\u001b[0m\u001b[0mfit\u001b[0m\u001b[0;34m(\u001b[0m\u001b[0mtrain_w2v\u001b[0m\u001b[0;34m,\u001b[0m\u001b[0mdata\u001b[0m\u001b[0;34m[\u001b[0m\u001b[0;34m'SentimentHeadline'\u001b[0m\u001b[0;34m]\u001b[0m\u001b[0;34m)\u001b[0m\u001b[0;34m\u001b[0m\u001b[0;34m\u001b[0m\u001b[0m\n\u001b[0m",
            "\u001b[0;32m/usr/local/lib/python3.6/dist-packages/sklearn/ensemble/_forest.py\u001b[0m in \u001b[0;36mfit\u001b[0;34m(self, X, y, sample_weight)\u001b[0m\n\u001b[1;32m    381\u001b[0m                     \u001b[0mverbose\u001b[0m\u001b[0;34m=\u001b[0m\u001b[0mself\u001b[0m\u001b[0;34m.\u001b[0m\u001b[0mverbose\u001b[0m\u001b[0;34m,\u001b[0m \u001b[0mclass_weight\u001b[0m\u001b[0;34m=\u001b[0m\u001b[0mself\u001b[0m\u001b[0;34m.\u001b[0m\u001b[0mclass_weight\u001b[0m\u001b[0;34m,\u001b[0m\u001b[0;34m\u001b[0m\u001b[0;34m\u001b[0m\u001b[0m\n\u001b[1;32m    382\u001b[0m                     n_samples_bootstrap=n_samples_bootstrap)\n\u001b[0;32m--> 383\u001b[0;31m                 for i, t in enumerate(trees))\n\u001b[0m\u001b[1;32m    384\u001b[0m \u001b[0;34m\u001b[0m\u001b[0m\n\u001b[1;32m    385\u001b[0m             \u001b[0;31m# Collect newly grown trees\u001b[0m\u001b[0;34m\u001b[0m\u001b[0;34m\u001b[0m\u001b[0;34m\u001b[0m\u001b[0m\n",
            "\u001b[0;32m/usr/local/lib/python3.6/dist-packages/joblib/parallel.py\u001b[0m in \u001b[0;36m__call__\u001b[0;34m(self, iterable)\u001b[0m\n\u001b[1;32m   1030\u001b[0m                 \u001b[0mself\u001b[0m\u001b[0;34m.\u001b[0m\u001b[0m_iterating\u001b[0m \u001b[0;34m=\u001b[0m \u001b[0mself\u001b[0m\u001b[0;34m.\u001b[0m\u001b[0m_original_iterator\u001b[0m \u001b[0;32mis\u001b[0m \u001b[0;32mnot\u001b[0m \u001b[0;32mNone\u001b[0m\u001b[0;34m\u001b[0m\u001b[0;34m\u001b[0m\u001b[0m\n\u001b[1;32m   1031\u001b[0m \u001b[0;34m\u001b[0m\u001b[0m\n\u001b[0;32m-> 1032\u001b[0;31m             \u001b[0;32mwhile\u001b[0m \u001b[0mself\u001b[0m\u001b[0;34m.\u001b[0m\u001b[0mdispatch_one_batch\u001b[0m\u001b[0;34m(\u001b[0m\u001b[0miterator\u001b[0m\u001b[0;34m)\u001b[0m\u001b[0;34m:\u001b[0m\u001b[0;34m\u001b[0m\u001b[0;34m\u001b[0m\u001b[0m\n\u001b[0m\u001b[1;32m   1033\u001b[0m                 \u001b[0;32mpass\u001b[0m\u001b[0;34m\u001b[0m\u001b[0;34m\u001b[0m\u001b[0m\n\u001b[1;32m   1034\u001b[0m \u001b[0;34m\u001b[0m\u001b[0m\n",
            "\u001b[0;32m/usr/local/lib/python3.6/dist-packages/joblib/parallel.py\u001b[0m in \u001b[0;36mdispatch_one_batch\u001b[0;34m(self, iterator)\u001b[0m\n\u001b[1;32m    845\u001b[0m                 \u001b[0;32mreturn\u001b[0m \u001b[0;32mFalse\u001b[0m\u001b[0;34m\u001b[0m\u001b[0;34m\u001b[0m\u001b[0m\n\u001b[1;32m    846\u001b[0m             \u001b[0;32melse\u001b[0m\u001b[0;34m:\u001b[0m\u001b[0;34m\u001b[0m\u001b[0;34m\u001b[0m\u001b[0m\n\u001b[0;32m--> 847\u001b[0;31m                 \u001b[0mself\u001b[0m\u001b[0;34m.\u001b[0m\u001b[0m_dispatch\u001b[0m\u001b[0;34m(\u001b[0m\u001b[0mtasks\u001b[0m\u001b[0;34m)\u001b[0m\u001b[0;34m\u001b[0m\u001b[0;34m\u001b[0m\u001b[0m\n\u001b[0m\u001b[1;32m    848\u001b[0m                 \u001b[0;32mreturn\u001b[0m \u001b[0;32mTrue\u001b[0m\u001b[0;34m\u001b[0m\u001b[0;34m\u001b[0m\u001b[0m\n\u001b[1;32m    849\u001b[0m \u001b[0;34m\u001b[0m\u001b[0m\n",
            "\u001b[0;32m/usr/local/lib/python3.6/dist-packages/joblib/parallel.py\u001b[0m in \u001b[0;36m_dispatch\u001b[0;34m(self, batch)\u001b[0m\n\u001b[1;32m    763\u001b[0m         \u001b[0;32mwith\u001b[0m \u001b[0mself\u001b[0m\u001b[0;34m.\u001b[0m\u001b[0m_lock\u001b[0m\u001b[0;34m:\u001b[0m\u001b[0;34m\u001b[0m\u001b[0;34m\u001b[0m\u001b[0m\n\u001b[1;32m    764\u001b[0m             \u001b[0mjob_idx\u001b[0m \u001b[0;34m=\u001b[0m \u001b[0mlen\u001b[0m\u001b[0;34m(\u001b[0m\u001b[0mself\u001b[0m\u001b[0;34m.\u001b[0m\u001b[0m_jobs\u001b[0m\u001b[0;34m)\u001b[0m\u001b[0;34m\u001b[0m\u001b[0;34m\u001b[0m\u001b[0m\n\u001b[0;32m--> 765\u001b[0;31m             \u001b[0mjob\u001b[0m \u001b[0;34m=\u001b[0m \u001b[0mself\u001b[0m\u001b[0;34m.\u001b[0m\u001b[0m_backend\u001b[0m\u001b[0;34m.\u001b[0m\u001b[0mapply_async\u001b[0m\u001b[0;34m(\u001b[0m\u001b[0mbatch\u001b[0m\u001b[0;34m,\u001b[0m \u001b[0mcallback\u001b[0m\u001b[0;34m=\u001b[0m\u001b[0mcb\u001b[0m\u001b[0;34m)\u001b[0m\u001b[0;34m\u001b[0m\u001b[0;34m\u001b[0m\u001b[0m\n\u001b[0m\u001b[1;32m    766\u001b[0m             \u001b[0;31m# A job can complete so quickly than its callback is\u001b[0m\u001b[0;34m\u001b[0m\u001b[0;34m\u001b[0m\u001b[0;34m\u001b[0m\u001b[0m\n\u001b[1;32m    767\u001b[0m             \u001b[0;31m# called before we get here, causing self._jobs to\u001b[0m\u001b[0;34m\u001b[0m\u001b[0;34m\u001b[0m\u001b[0;34m\u001b[0m\u001b[0m\n",
            "\u001b[0;32m/usr/local/lib/python3.6/dist-packages/joblib/_parallel_backends.py\u001b[0m in \u001b[0;36mapply_async\u001b[0;34m(self, func, callback)\u001b[0m\n\u001b[1;32m    206\u001b[0m     \u001b[0;32mdef\u001b[0m \u001b[0mapply_async\u001b[0m\u001b[0;34m(\u001b[0m\u001b[0mself\u001b[0m\u001b[0;34m,\u001b[0m \u001b[0mfunc\u001b[0m\u001b[0;34m,\u001b[0m \u001b[0mcallback\u001b[0m\u001b[0;34m=\u001b[0m\u001b[0;32mNone\u001b[0m\u001b[0;34m)\u001b[0m\u001b[0;34m:\u001b[0m\u001b[0;34m\u001b[0m\u001b[0;34m\u001b[0m\u001b[0m\n\u001b[1;32m    207\u001b[0m         \u001b[0;34m\"\"\"Schedule a func to be run\"\"\"\u001b[0m\u001b[0;34m\u001b[0m\u001b[0;34m\u001b[0m\u001b[0m\n\u001b[0;32m--> 208\u001b[0;31m         \u001b[0mresult\u001b[0m \u001b[0;34m=\u001b[0m \u001b[0mImmediateResult\u001b[0m\u001b[0;34m(\u001b[0m\u001b[0mfunc\u001b[0m\u001b[0;34m)\u001b[0m\u001b[0;34m\u001b[0m\u001b[0;34m\u001b[0m\u001b[0m\n\u001b[0m\u001b[1;32m    209\u001b[0m         \u001b[0;32mif\u001b[0m \u001b[0mcallback\u001b[0m\u001b[0;34m:\u001b[0m\u001b[0;34m\u001b[0m\u001b[0;34m\u001b[0m\u001b[0m\n\u001b[1;32m    210\u001b[0m             \u001b[0mcallback\u001b[0m\u001b[0;34m(\u001b[0m\u001b[0mresult\u001b[0m\u001b[0;34m)\u001b[0m\u001b[0;34m\u001b[0m\u001b[0;34m\u001b[0m\u001b[0m\n",
            "\u001b[0;32m/usr/local/lib/python3.6/dist-packages/joblib/_parallel_backends.py\u001b[0m in \u001b[0;36m__init__\u001b[0;34m(self, batch)\u001b[0m\n\u001b[1;32m    570\u001b[0m         \u001b[0;31m# Don't delay the application, to avoid keeping the input\u001b[0m\u001b[0;34m\u001b[0m\u001b[0;34m\u001b[0m\u001b[0;34m\u001b[0m\u001b[0m\n\u001b[1;32m    571\u001b[0m         \u001b[0;31m# arguments in memory\u001b[0m\u001b[0;34m\u001b[0m\u001b[0;34m\u001b[0m\u001b[0;34m\u001b[0m\u001b[0m\n\u001b[0;32m--> 572\u001b[0;31m         \u001b[0mself\u001b[0m\u001b[0;34m.\u001b[0m\u001b[0mresults\u001b[0m \u001b[0;34m=\u001b[0m \u001b[0mbatch\u001b[0m\u001b[0;34m(\u001b[0m\u001b[0;34m)\u001b[0m\u001b[0;34m\u001b[0m\u001b[0;34m\u001b[0m\u001b[0m\n\u001b[0m\u001b[1;32m    573\u001b[0m \u001b[0;34m\u001b[0m\u001b[0m\n\u001b[1;32m    574\u001b[0m     \u001b[0;32mdef\u001b[0m \u001b[0mget\u001b[0m\u001b[0;34m(\u001b[0m\u001b[0mself\u001b[0m\u001b[0;34m)\u001b[0m\u001b[0;34m:\u001b[0m\u001b[0;34m\u001b[0m\u001b[0;34m\u001b[0m\u001b[0m\n",
            "\u001b[0;32m/usr/local/lib/python3.6/dist-packages/joblib/parallel.py\u001b[0m in \u001b[0;36m__call__\u001b[0;34m(self)\u001b[0m\n\u001b[1;32m    251\u001b[0m         \u001b[0;32mwith\u001b[0m \u001b[0mparallel_backend\u001b[0m\u001b[0;34m(\u001b[0m\u001b[0mself\u001b[0m\u001b[0;34m.\u001b[0m\u001b[0m_backend\u001b[0m\u001b[0;34m,\u001b[0m \u001b[0mn_jobs\u001b[0m\u001b[0;34m=\u001b[0m\u001b[0mself\u001b[0m\u001b[0;34m.\u001b[0m\u001b[0m_n_jobs\u001b[0m\u001b[0;34m)\u001b[0m\u001b[0;34m:\u001b[0m\u001b[0;34m\u001b[0m\u001b[0;34m\u001b[0m\u001b[0m\n\u001b[1;32m    252\u001b[0m             return [func(*args, **kwargs)\n\u001b[0;32m--> 253\u001b[0;31m                     for func, args, kwargs in self.items]\n\u001b[0m\u001b[1;32m    254\u001b[0m \u001b[0;34m\u001b[0m\u001b[0m\n\u001b[1;32m    255\u001b[0m     \u001b[0;32mdef\u001b[0m \u001b[0m__reduce__\u001b[0m\u001b[0;34m(\u001b[0m\u001b[0mself\u001b[0m\u001b[0;34m)\u001b[0m\u001b[0;34m:\u001b[0m\u001b[0;34m\u001b[0m\u001b[0;34m\u001b[0m\u001b[0m\n",
            "\u001b[0;32m/usr/local/lib/python3.6/dist-packages/joblib/parallel.py\u001b[0m in \u001b[0;36m<listcomp>\u001b[0;34m(.0)\u001b[0m\n\u001b[1;32m    251\u001b[0m         \u001b[0;32mwith\u001b[0m \u001b[0mparallel_backend\u001b[0m\u001b[0;34m(\u001b[0m\u001b[0mself\u001b[0m\u001b[0;34m.\u001b[0m\u001b[0m_backend\u001b[0m\u001b[0;34m,\u001b[0m \u001b[0mn_jobs\u001b[0m\u001b[0;34m=\u001b[0m\u001b[0mself\u001b[0m\u001b[0;34m.\u001b[0m\u001b[0m_n_jobs\u001b[0m\u001b[0;34m)\u001b[0m\u001b[0;34m:\u001b[0m\u001b[0;34m\u001b[0m\u001b[0;34m\u001b[0m\u001b[0m\n\u001b[1;32m    252\u001b[0m             return [func(*args, **kwargs)\n\u001b[0;32m--> 253\u001b[0;31m                     for func, args, kwargs in self.items]\n\u001b[0m\u001b[1;32m    254\u001b[0m \u001b[0;34m\u001b[0m\u001b[0m\n\u001b[1;32m    255\u001b[0m     \u001b[0;32mdef\u001b[0m \u001b[0m__reduce__\u001b[0m\u001b[0;34m(\u001b[0m\u001b[0mself\u001b[0m\u001b[0;34m)\u001b[0m\u001b[0;34m:\u001b[0m\u001b[0;34m\u001b[0m\u001b[0;34m\u001b[0m\u001b[0m\n",
            "\u001b[0;32m/usr/local/lib/python3.6/dist-packages/sklearn/ensemble/_forest.py\u001b[0m in \u001b[0;36m_parallel_build_trees\u001b[0;34m(tree, forest, X, y, sample_weight, tree_idx, n_trees, verbose, class_weight, n_samples_bootstrap)\u001b[0m\n\u001b[1;32m    163\u001b[0m             \u001b[0mcurr_sample_weight\u001b[0m \u001b[0;34m*=\u001b[0m \u001b[0mcompute_sample_weight\u001b[0m\u001b[0;34m(\u001b[0m\u001b[0;34m'balanced'\u001b[0m\u001b[0;34m,\u001b[0m \u001b[0my\u001b[0m\u001b[0;34m,\u001b[0m \u001b[0mindices\u001b[0m\u001b[0;34m)\u001b[0m\u001b[0;34m\u001b[0m\u001b[0;34m\u001b[0m\u001b[0m\n\u001b[1;32m    164\u001b[0m \u001b[0;34m\u001b[0m\u001b[0m\n\u001b[0;32m--> 165\u001b[0;31m         \u001b[0mtree\u001b[0m\u001b[0;34m.\u001b[0m\u001b[0mfit\u001b[0m\u001b[0;34m(\u001b[0m\u001b[0mX\u001b[0m\u001b[0;34m,\u001b[0m \u001b[0my\u001b[0m\u001b[0;34m,\u001b[0m \u001b[0msample_weight\u001b[0m\u001b[0;34m=\u001b[0m\u001b[0mcurr_sample_weight\u001b[0m\u001b[0;34m,\u001b[0m \u001b[0mcheck_input\u001b[0m\u001b[0;34m=\u001b[0m\u001b[0;32mFalse\u001b[0m\u001b[0;34m)\u001b[0m\u001b[0;34m\u001b[0m\u001b[0;34m\u001b[0m\u001b[0m\n\u001b[0m\u001b[1;32m    166\u001b[0m     \u001b[0;32melse\u001b[0m\u001b[0;34m:\u001b[0m\u001b[0;34m\u001b[0m\u001b[0;34m\u001b[0m\u001b[0m\n\u001b[1;32m    167\u001b[0m         \u001b[0mtree\u001b[0m\u001b[0;34m.\u001b[0m\u001b[0mfit\u001b[0m\u001b[0;34m(\u001b[0m\u001b[0mX\u001b[0m\u001b[0;34m,\u001b[0m \u001b[0my\u001b[0m\u001b[0;34m,\u001b[0m \u001b[0msample_weight\u001b[0m\u001b[0;34m=\u001b[0m\u001b[0msample_weight\u001b[0m\u001b[0;34m,\u001b[0m \u001b[0mcheck_input\u001b[0m\u001b[0;34m=\u001b[0m\u001b[0;32mFalse\u001b[0m\u001b[0;34m)\u001b[0m\u001b[0;34m\u001b[0m\u001b[0;34m\u001b[0m\u001b[0m\n",
            "\u001b[0;32m/usr/local/lib/python3.6/dist-packages/sklearn/tree/_classes.py\u001b[0m in \u001b[0;36mfit\u001b[0;34m(self, X, y, sample_weight, check_input, X_idx_sorted)\u001b[0m\n\u001b[1;32m   1223\u001b[0m             \u001b[0msample_weight\u001b[0m\u001b[0;34m=\u001b[0m\u001b[0msample_weight\u001b[0m\u001b[0;34m,\u001b[0m\u001b[0;34m\u001b[0m\u001b[0;34m\u001b[0m\u001b[0m\n\u001b[1;32m   1224\u001b[0m             \u001b[0mcheck_input\u001b[0m\u001b[0;34m=\u001b[0m\u001b[0mcheck_input\u001b[0m\u001b[0;34m,\u001b[0m\u001b[0;34m\u001b[0m\u001b[0;34m\u001b[0m\u001b[0m\n\u001b[0;32m-> 1225\u001b[0;31m             X_idx_sorted=X_idx_sorted)\n\u001b[0m\u001b[1;32m   1226\u001b[0m         \u001b[0;32mreturn\u001b[0m \u001b[0mself\u001b[0m\u001b[0;34m\u001b[0m\u001b[0;34m\u001b[0m\u001b[0m\n\u001b[1;32m   1227\u001b[0m \u001b[0;34m\u001b[0m\u001b[0m\n",
            "\u001b[0;32m/usr/local/lib/python3.6/dist-packages/sklearn/tree/_classes.py\u001b[0m in \u001b[0;36mfit\u001b[0;34m(self, X, y, sample_weight, check_input, X_idx_sorted)\u001b[0m\n\u001b[1;32m    365\u001b[0m                                            min_impurity_split)\n\u001b[1;32m    366\u001b[0m \u001b[0;34m\u001b[0m\u001b[0m\n\u001b[0;32m--> 367\u001b[0;31m         \u001b[0mbuilder\u001b[0m\u001b[0;34m.\u001b[0m\u001b[0mbuild\u001b[0m\u001b[0;34m(\u001b[0m\u001b[0mself\u001b[0m\u001b[0;34m.\u001b[0m\u001b[0mtree_\u001b[0m\u001b[0;34m,\u001b[0m \u001b[0mX\u001b[0m\u001b[0;34m,\u001b[0m \u001b[0my\u001b[0m\u001b[0;34m,\u001b[0m \u001b[0msample_weight\u001b[0m\u001b[0;34m,\u001b[0m \u001b[0mX_idx_sorted\u001b[0m\u001b[0;34m)\u001b[0m\u001b[0;34m\u001b[0m\u001b[0;34m\u001b[0m\u001b[0m\n\u001b[0m\u001b[1;32m    368\u001b[0m \u001b[0;34m\u001b[0m\u001b[0m\n\u001b[1;32m    369\u001b[0m         \u001b[0;32mif\u001b[0m \u001b[0mself\u001b[0m\u001b[0;34m.\u001b[0m\u001b[0mn_outputs_\u001b[0m \u001b[0;34m==\u001b[0m \u001b[0;36m1\u001b[0m \u001b[0;32mand\u001b[0m \u001b[0mis_classifier\u001b[0m\u001b[0;34m(\u001b[0m\u001b[0mself\u001b[0m\u001b[0;34m)\u001b[0m\u001b[0;34m:\u001b[0m\u001b[0;34m\u001b[0m\u001b[0;34m\u001b[0m\u001b[0m\n",
            "\u001b[0;31mKeyboardInterrupt\u001b[0m: "
          ]
        }
      ]
    },
    {
      "cell_type": "code",
      "metadata": {
        "id": "VNtPdePmCcMv"
      },
      "source": [
        "RF.score(train_w2v,data['SentimentHeadline'])"
      ],
      "execution_count": null,
      "outputs": []
    },
    {
      "cell_type": "code",
      "metadata": {
        "id": "J1J7aDK3YVGc"
      },
      "source": [
        "tRF=RandomForestRegressor()"
      ],
      "execution_count": null,
      "outputs": []
    },
    {
      "cell_type": "code",
      "metadata": {
        "id": "PVHrkj9UUzl2"
      },
      "source": [
        "tRF.fit(ttrain_w2v,data['SentimentTopic'])"
      ],
      "execution_count": null,
      "outputs": []
    },
    {
      "cell_type": "code",
      "metadata": {
        "id": "EeJf23_gUzWV"
      },
      "source": [
        "tRF.score(ttrain_w2v,data['SentimentTopic'])"
      ],
      "execution_count": null,
      "outputs": []
    },
    {
      "cell_type": "code",
      "metadata": {
        "id": "s5Im0h5RIjk2"
      },
      "source": [
        "sub.head().T"
      ],
      "execution_count": null,
      "outputs": []
    },
    {
      "cell_type": "code",
      "metadata": {
        "id": "wsnNhvUrIAdB"
      },
      "source": [
        "sub['SentimentHeadline'] = RF.predict(test_w2v)"
      ],
      "execution_count": null,
      "outputs": []
    },
    {
      "cell_type": "code",
      "metadata": {
        "id": "Di8DFMbaVGFR"
      },
      "source": [
        "sub['SentimentTitle'] = tRF.predict(ttest_w2v)"
      ],
      "execution_count": null,
      "outputs": []
    },
    {
      "cell_type": "code",
      "metadata": {
        "id": "ZC-lf_pnI4S_"
      },
      "source": [
        "sub.drop(['Title','Headline','Source','Topic','PublishDate','Facebook','GooglePlus','LinkedIn'],axis=1,inplace=True)"
      ],
      "execution_count": null,
      "outputs": []
    },
    {
      "cell_type": "code",
      "metadata": {
        "id": "YbU10MMULlVy"
      },
      "source": [
        "sub.head().T"
      ],
      "execution_count": null,
      "outputs": []
    },
    {
      "cell_type": "code",
      "metadata": {
        "id": "lMhbIbvnLJR-"
      },
      "source": [
        "sub.to_csv('sub.csv',index=False)"
      ],
      "execution_count": null,
      "outputs": []
    },
    {
      "cell_type": "code",
      "metadata": {
        "id": "B-EwxHa-M3nK"
      },
      "source": [
        ""
      ],
      "execution_count": null,
      "outputs": []
    }
  ]
}